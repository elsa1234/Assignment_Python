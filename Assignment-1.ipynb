{
 "cells": [
  {
   "cell_type": "raw",
   "id": "32a21f13-d3ba-44ab-b1be-e021de344950",
   "metadata": {},
   "source": [
    "Assignment-1\n",
    "\n",
    "Q-1  - conventions for declaring variable\n",
    "       1. python has no command for declaring variable.\n",
    "Ans  - 2. variable name must be start with letter or underscore and not with number\n",
    "       3. variable name only contain alphanumeric characters and underscores(A-z, 0-9, and _)\n",
    "       4 variable names are case sensitive(eg - Name, NAME and name is different variable)\n",
    "       \n",
    "Q-2 - what will happen when we declare restricted keyword as variable?\n",
    "Ans - error has occured because this keywords are already pre-defind in python.\n",
    "\n",
    "Q-3 - Can we actually declare a string as a variable name?\n",
    "Ans - yes\n",
    "\n",
    "Q-4 - is it possible to declare \"_\" as a variable? if so, then write a example\n",
    "Ans - yes it is possible, but we can not use it usually \n",
    "        eg - _ = 4\n",
    "            print(_)\n",
    "            \n",
    "Q-5 - using an example, explain how the variables are dynamic in nature?\n",
    "Ans - x= 2\n",
    "      y=2\n",
    "      z=4\n",
    "      print(x, y, z)\n",
    "      if x < z:\n",
    "       x=20\n",
    "       print(x, y, z)\n"
   ]
  }
 ],
 "metadata": {
  "kernelspec": {
   "display_name": "Python 3 (ipykernel)",
   "language": "python",
   "name": "python3"
  },
  "language_info": {
   "codemirror_mode": {
    "name": "ipython",
    "version": 3
   },
   "file_extension": ".py",
   "mimetype": "text/x-python",
   "name": "python",
   "nbconvert_exporter": "python",
   "pygments_lexer": "ipython3",
   "version": "3.10.8"
  }
 },
 "nbformat": 4,
 "nbformat_minor": 5
}
